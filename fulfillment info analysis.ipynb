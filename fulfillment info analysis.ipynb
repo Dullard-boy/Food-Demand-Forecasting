{
 "cells": [
  {
   "cell_type": "code",
   "execution_count": 1,
   "metadata": {},
   "outputs": [
    {
     "name": "stdout",
     "output_type": "stream",
     "text": [
      "    center_id  city_code  region_code center_type  op_area\n",
      "0          11        679           56      TYPE_A      3.7\n",
      "1          13        590           56      TYPE_B      6.7\n",
      "2         124        590           56      TYPE_C      4.0\n",
      "3          66        648           34      TYPE_A      4.1\n",
      "4          94        632           34      TYPE_C      3.6\n",
      "..        ...        ...          ...         ...      ...\n",
      "72         53        590           56      TYPE_A      3.8\n",
      "73         30        604           56      TYPE_A      3.5\n",
      "74         76        614           85      TYPE_A      3.0\n",
      "75         68        676           34      TYPE_B      4.1\n",
      "76         51        638           56      TYPE_A      7.0\n",
      "\n",
      "[77 rows x 5 columns]\n"
     ]
    }
   ],
   "source": [
    "import pandas as pd\n",
    "data2 = pd.read_csv('C:/Users/hp/Desktop/Python Courses/fulfilment_center_info.csv')\n",
    "print(data2)"
   ]
  },
  {
   "cell_type": "code",
   "execution_count": 2,
   "metadata": {},
   "outputs": [
    {
     "name": "stdout",
     "output_type": "stream",
     "text": [
      "    center_id  city_code  region_code center_type  op_area\n",
      "0          11        679           56      TYPE_A      3.7\n",
      "3          66        648           34      TYPE_A      4.1\n",
      "5          64        553           77      TYPE_A      4.4\n",
      "6         129        593           77      TYPE_A      3.9\n",
      "8          88        526           34      TYPE_A      4.1\n",
      "12         32        526           34      TYPE_A      3.8\n",
      "13        149        478           77      TYPE_A      2.4\n",
      "16         27        713           85      TYPE_A      4.5\n",
      "19        104        647           56      TYPE_A      4.5\n",
      "20         77        676           34      TYPE_A      3.8\n",
      "21         23        698           23      TYPE_A      3.4\n",
      "22         97        628           77      TYPE_A      4.6\n",
      "25        145        620           77      TYPE_A      3.9\n",
      "28        186        649           34      TYPE_A      3.4\n",
      "29         99        596           71      TYPE_A      4.5\n",
      "31         20        522           56      TYPE_A      4.0\n",
      "32        106        675           34      TYPE_A      4.0\n",
      "33         81        526           34      TYPE_A      4.0\n",
      "34         73        576           34      TYPE_A      4.0\n",
      "36         43        590           56      TYPE_A      5.1\n",
      "37        102        593           77      TYPE_A      2.8\n",
      "38         61        473           77      TYPE_A      4.5\n",
      "39         50        556           77      TYPE_A      4.8\n",
      "40         83        659           77      TYPE_A      5.3\n",
      "42        126        577           56      TYPE_A      2.7\n",
      "43        177        683           56      TYPE_A      3.4\n",
      "45        174        700           56      TYPE_A      7.0\n",
      "46         59        456           56      TYPE_A      4.2\n",
      "48         65        602           34      TYPE_A      4.8\n",
      "50        132        522           56      TYPE_A      3.9\n",
      "51         89        703           56      TYPE_A      4.8\n",
      "57        110        485           77      TYPE_A      3.8\n",
      "59         93        461           34      TYPE_A      3.9\n",
      "60         74        702           35      TYPE_A      2.8\n",
      "62        137        590           56      TYPE_A      4.4\n",
      "63        153        590           56      TYPE_A      3.9\n",
      "65        109        599           56      TYPE_A      3.6\n",
      "68        157        609           93      TYPE_A      4.1\n",
      "69         17        517           56      TYPE_A      3.2\n",
      "72         53        590           56      TYPE_A      3.8\n",
      "73         30        604           56      TYPE_A      3.5\n",
      "74         76        614           85      TYPE_A      3.0\n",
      "76         51        638           56      TYPE_A      7.0\n"
     ]
    }
   ],
   "source": [
    "df= pd.DataFrame(data2)\n",
    "grouped = df.groupby('center_type')\n",
    "print(grouped.get_group('TYPE_A'))"
   ]
  },
  {
   "cell_type": "code",
   "execution_count": 36,
   "metadata": {},
   "outputs": [
    {
     "name": "stdout",
     "output_type": "stream",
     "text": [
      "    center_id  city_code  region_code center_type  op_area\n",
      "21         23        698           23      TYPE_A      3.4\n",
      "3          66        648           34      TYPE_A      4.1\n",
      "48         65        602           34      TYPE_A      4.8\n",
      "8          88        526           34      TYPE_A      4.1\n",
      "12         32        526           34      TYPE_A      3.8\n",
      "34         73        576           34      TYPE_A      4.0\n",
      "33         81        526           34      TYPE_A      4.0\n",
      "20         77        676           34      TYPE_A      3.8\n",
      "32        106        675           34      TYPE_A      4.0\n",
      "28        186        649           34      TYPE_A      3.4\n",
      "59         93        461           34      TYPE_A      3.9\n",
      "60         74        702           35      TYPE_A      2.8\n",
      "0          11        679           56      TYPE_A      3.7\n",
      "46         59        456           56      TYPE_A      4.2\n",
      "50        132        522           56      TYPE_A      3.9\n",
      "62        137        590           56      TYPE_A      4.4\n",
      "45        174        700           56      TYPE_A      7.0\n",
      "63        153        590           56      TYPE_A      3.9\n",
      "65        109        599           56      TYPE_A      3.6\n",
      "69         17        517           56      TYPE_A      3.2\n",
      "72         53        590           56      TYPE_A      3.8\n",
      "73         30        604           56      TYPE_A      3.5\n",
      "51         89        703           56      TYPE_A      4.8\n",
      "43        177        683           56      TYPE_A      3.4\n",
      "76         51        638           56      TYPE_A      7.0\n",
      "36         43        590           56      TYPE_A      5.1\n",
      "31         20        522           56      TYPE_A      4.0\n",
      "19        104        647           56      TYPE_A      4.5\n",
      "42        126        577           56      TYPE_A      2.7\n",
      "29         99        596           71      TYPE_A      4.5\n",
      "40         83        659           77      TYPE_A      5.3\n",
      "5          64        553           77      TYPE_A      4.4\n",
      "6         129        593           77      TYPE_A      3.9\n",
      "13        149        478           77      TYPE_A      2.4\n",
      "25        145        620           77      TYPE_A      3.9\n",
      "57        110        485           77      TYPE_A      3.8\n",
      "37        102        593           77      TYPE_A      2.8\n",
      "39         50        556           77      TYPE_A      4.8\n",
      "22         97        628           77      TYPE_A      4.6\n",
      "38         61        473           77      TYPE_A      4.5\n",
      "16         27        713           85      TYPE_A      4.5\n",
      "74         76        614           85      TYPE_A      3.0\n",
      "68        157        609           93      TYPE_A      4.1\n",
      "\n",
      "count    43.000000\n",
      "mean      4.076744\n",
      "std       0.911262\n",
      "min       2.400000\n",
      "25%       3.650000\n",
      "50%       4.000000\n",
      "75%       4.500000\n",
      "max       7.000000\n",
      "Name: op_area, dtype: float64\n"
     ]
    }
   ],
   "source": [
    "typA= grouped.get_group('TYPE_A')\n",
    "print(typA.sort_values('region_code'))\n",
    "print('')\n",
    "print(typA['op_area'].describe())"
   ]
  },
  {
   "cell_type": "code",
   "execution_count": 4,
   "metadata": {},
   "outputs": [
    {
     "name": "stdout",
     "output_type": "stream",
     "text": [
      "56    17\n",
      "34    10\n",
      "77    10\n",
      "85     2\n",
      "35     1\n",
      "93     1\n",
      "23     1\n",
      "71     1\n",
      "Name: region_code, dtype: int64\n"
     ]
    }
   ],
   "source": [
    "print(typA['region_code'].value_counts())"
   ]
  },
  {
   "cell_type": "code",
   "execution_count": 5,
   "metadata": {},
   "outputs": [
    {
     "name": "stdout",
     "output_type": "stream",
     "text": [
      "(43, 5)\n"
     ]
    }
   ],
   "source": [
    "print(typA.shape)"
   ]
  },
  {
   "cell_type": "code",
   "execution_count": 6,
   "metadata": {},
   "outputs": [
    {
     "name": "stdout",
     "output_type": "stream",
     "text": [
      "    region_code\n",
      "56           17\n",
      "34           10\n",
      "77           10\n",
      "85            2\n",
      "35            1\n",
      "93            1\n",
      "23            1\n",
      "71            1\n",
      "     A\n",
      "56  17\n",
      "34  10\n",
      "77  10\n",
      "85   2\n",
      "35   1\n",
      "93   1\n",
      "23   1\n",
      "71   1\n"
     ]
    }
   ],
   "source": [
    "freqA=pd.DataFrame(typA['region_code'].value_counts())\n",
    "print(freqA)\n",
    "print(freqA.rename(columns={'region_code':'A'}))"
   ]
  },
  {
   "cell_type": "code",
   "execution_count": 7,
   "metadata": {},
   "outputs": [
    {
     "name": "stdout",
     "output_type": "stream",
     "text": [
      "AxesSubplot(0.125,0.125;0.775x0.755)\n"
     ]
    },
    {
     "data": {
      "image/png": "[encoded data removed]",
      "text/plain": [
       "<Figure size 432x288 with 1 Axes>"
      ]
     },
     "metadata": {
      "needs_background": "light"
     },
     "output_type": "display_data"
    }
   ],
   "source": [
    "print(freqA.boxplot())"
   ]
  },
  {
   "cell_type": "code",
   "execution_count": 8,
   "metadata": {},
   "outputs": [
    {
     "name": "stdout",
     "output_type": "stream",
     "text": [
      "    center_id  city_code  region_code center_type  op_area\n",
      "1          13        590           56      TYPE_B      6.7\n",
      "9         143        562           77      TYPE_B      3.8\n",
      "14        152        576           34      TYPE_B      4.0\n",
      "23        146        526           34      TYPE_B      5.0\n",
      "44         67        638           56      TYPE_B      7.0\n",
      "53         75        651           77      TYPE_B      4.7\n",
      "56         10        590           56      TYPE_B      6.3\n",
      "58         52        685           56      TYPE_B      5.6\n",
      "61         34        615           34      TYPE_B      4.2\n",
      "64         24        614           85      TYPE_B      3.6\n",
      "66        108        579           56      TYPE_B      4.4\n",
      "67         36        517           56      TYPE_B      4.4\n",
      "70        161        658           34      TYPE_B      3.9\n",
      "71         42        561           77      TYPE_B      3.9\n",
      "75         68        676           34      TYPE_B      4.1\n"
     ]
    }
   ],
   "source": [
    "print(grouped.get_group('TYPE_B'))"
   ]
  },
  {
   "cell_type": "code",
   "execution_count": 35,
   "metadata": {},
   "outputs": [
    {
     "name": "stdout",
     "output_type": "stream",
     "text": [
      "\n",
      "count    15.000000\n",
      "mean      4.773333\n",
      "std       1.109998\n",
      "min       3.600000\n",
      "25%       3.950000\n",
      "50%       4.400000\n",
      "75%       5.300000\n",
      "max       7.000000\n",
      "Name: op_area, dtype: float64\n",
      "\n",
      "(15, 5)\n",
      "    center_id  city_code  region_code center_type  op_area\n",
      "14        152        576           34      TYPE_B      4.0\n",
      "23        146        526           34      TYPE_B      5.0\n",
      "61         34        615           34      TYPE_B      4.2\n",
      "70        161        658           34      TYPE_B      3.9\n",
      "75         68        676           34      TYPE_B      4.1\n",
      "1          13        590           56      TYPE_B      6.7\n",
      "44         67        638           56      TYPE_B      7.0\n",
      "56         10        590           56      TYPE_B      6.3\n",
      "58         52        685           56      TYPE_B      5.6\n",
      "66        108        579           56      TYPE_B      4.4\n",
      "67         36        517           56      TYPE_B      4.4\n",
      "9         143        562           77      TYPE_B      3.8\n",
      "53         75        651           77      TYPE_B      4.7\n",
      "71         42        561           77      TYPE_B      3.9\n",
      "64         24        614           85      TYPE_B      3.6\n",
      "    center_id  city_code  region_code center_type  op_area\n",
      "67         36        517           56      TYPE_B      4.4\n",
      "23        146        526           34      TYPE_B      5.0\n",
      "71         42        561           77      TYPE_B      3.9\n",
      "9         143        562           77      TYPE_B      3.8\n",
      "14        152        576           34      TYPE_B      4.0\n",
      "66        108        579           56      TYPE_B      4.4\n",
      "1          13        590           56      TYPE_B      6.7\n",
      "56         10        590           56      TYPE_B      6.3\n",
      "64         24        614           85      TYPE_B      3.6\n",
      "61         34        615           34      TYPE_B      4.2\n",
      "44         67        638           56      TYPE_B      7.0\n",
      "53         75        651           77      TYPE_B      4.7\n",
      "70        161        658           34      TYPE_B      3.9\n",
      "75         68        676           34      TYPE_B      4.1\n",
      "58         52        685           56      TYPE_B      5.6\n"
     ]
    }
   ],
   "source": [
    "typB=grouped.get_group('TYPE_B')\n",
    "print('')\n",
    "print(typB['op_area'].describe())\n",
    "print('')\n",
    "print(typB.shape)\n",
    "print(typB.sort_values(by='region_code'))\n",
    "print(typB.sort_values(by='city_code'))"
   ]
  },
  {
   "cell_type": "code",
   "execution_count": 10,
   "metadata": {},
   "outputs": [
    {
     "name": "stdout",
     "output_type": "stream",
     "text": [
      "56    6\n",
      "34    5\n",
      "77    3\n",
      "85    1\n",
      "Name: region_code, dtype: int64\n"
     ]
    }
   ],
   "source": [
    "print(typB['region_code'].value_counts())"
   ]
  },
  {
   "cell_type": "code",
   "execution_count": 11,
   "metadata": {},
   "outputs": [
    {
     "name": "stdout",
     "output_type": "stream",
     "text": [
      "    region_code\n",
      "56            6\n",
      "34            5\n",
      "77            3\n",
      "85            1\n",
      "    B\n",
      "56  6\n",
      "34  5\n",
      "77  3\n",
      "85  1\n"
     ]
    }
   ],
   "source": [
    "freqB = pd.DataFrame(typB['region_code'].value_counts())\n",
    "print(freqB)\n",
    "print(freqB.rename(columns={'region_code':'B'}))"
   ]
  },
  {
   "cell_type": "code",
   "execution_count": 12,
   "metadata": {},
   "outputs": [
    {
     "name": "stdout",
     "output_type": "stream",
     "text": [
      "    center_id  city_code  region_code center_type  op_area\n",
      "2         124        590           56      TYPE_C      4.0\n",
      "4          94        632           34      TYPE_C      3.6\n",
      "7         139        693           34      TYPE_C      2.8\n",
      "10        101        699           85      TYPE_C      2.8\n",
      "11         86        699           85      TYPE_C      4.0\n",
      "15         92        526           34      TYPE_C      2.9\n",
      "17         14        654           56      TYPE_C      2.7\n",
      "18         26        515           77      TYPE_C      3.0\n",
      "24        113        680           77      TYPE_C      4.0\n",
      "26         80        604           56      TYPE_C      5.1\n",
      "27         55        647           56      TYPE_C      2.0\n",
      "30         91        590           56      TYPE_C      0.9\n",
      "35         29        526           34      TYPE_C      4.0\n",
      "41         57        541           77      TYPE_C      2.8\n",
      "47         58        695           77      TYPE_C      3.8\n",
      "49         39        526           34      TYPE_C      3.8\n",
      "52        162        526           34      TYPE_C      2.0\n",
      "54         72        638           56      TYPE_C      3.9\n",
      "55         41        590           56      TYPE_C      1.9\n"
     ]
    }
   ],
   "source": [
    "print(grouped.get_group('TYPE_C'))"
   ]
  },
  {
   "cell_type": "code",
   "execution_count": 37,
   "metadata": {},
   "outputs": [
    {
     "name": "stdout",
     "output_type": "stream",
     "text": [
      "\n",
      "count    19.000000\n",
      "mean      3.157895\n",
      "std       1.006267\n",
      "min       0.900000\n",
      "25%       2.750000\n",
      "50%       3.000000\n",
      "75%       3.950000\n",
      "max       5.100000\n",
      "Name: op_area, dtype: float64\n",
      "\n",
      "(19, 5)\n",
      "    center_id  city_code  region_code center_type  op_area\n",
      "4          94        632           34      TYPE_C      3.6\n",
      "7         139        693           34      TYPE_C      2.8\n",
      "52        162        526           34      TYPE_C      2.0\n",
      "49         39        526           34      TYPE_C      3.8\n",
      "15         92        526           34      TYPE_C      2.9\n",
      "35         29        526           34      TYPE_C      4.0\n",
      "2         124        590           56      TYPE_C      4.0\n",
      "30         91        590           56      TYPE_C      0.9\n",
      "27         55        647           56      TYPE_C      2.0\n",
      "26         80        604           56      TYPE_C      5.1\n",
      "17         14        654           56      TYPE_C      2.7\n",
      "54         72        638           56      TYPE_C      3.9\n",
      "55         41        590           56      TYPE_C      1.9\n",
      "24        113        680           77      TYPE_C      4.0\n",
      "18         26        515           77      TYPE_C      3.0\n",
      "41         57        541           77      TYPE_C      2.8\n",
      "47         58        695           77      TYPE_C      3.8\n",
      "11         86        699           85      TYPE_C      4.0\n",
      "10        101        699           85      TYPE_C      2.8\n"
     ]
    }
   ],
   "source": [
    "typC= grouped.get_group('TYPE_C')\n",
    "print('')\n",
    "print(typC['op_area'].describe())\n",
    "print('')\n",
    "print(typC.shape)\n",
    "print(typC.sort_values(by='region_code'))"
   ]
  },
  {
   "cell_type": "code",
   "execution_count": 14,
   "metadata": {},
   "outputs": [
    {
     "name": "stdout",
     "output_type": "stream",
     "text": [
      "56    7\n",
      "34    6\n",
      "77    4\n",
      "85    2\n",
      "Name: region_code, dtype: int64\n",
      "\n",
      "    region_code\n",
      "56            7\n",
      "34            6\n",
      "77            4\n",
      "85            2\n",
      "    C\n",
      "56  7\n",
      "34  6\n",
      "77  4\n",
      "85  2\n"
     ]
    }
   ],
   "source": [
    "print(typC['region_code'].value_counts())\n",
    "freqC=pd.DataFrame(typC['region_code'].value_counts())\n",
    "print(\"\")\n",
    "print(freqC)\n",
    "print(freqC.rename(columns={'region_code':'C'}))"
   ]
  },
  {
   "cell_type": "code",
   "execution_count": 15,
   "metadata": {},
   "outputs": [
    {
     "name": "stdout",
     "output_type": "stream",
     "text": [
      "     A  B  C\n",
      "56  17  6  7\n",
      "34  10  5  6\n",
      "77  10  3  4\n",
      "85   2  1  2\n"
     ]
    }
   ],
   "source": [
    "a = freqA.rename(columns={'region_code':'A'})\n",
    "b = freqB.rename(columns={'region_code':'B'})\n",
    "c = freqC.rename(columns={'region_code':'C'})\n",
    "mergABC= pd.concat([a, b,c], join= 'inner', axis=1)\n",
    "print(mergABC)"
   ]
  },
  {
   "cell_type": "code",
   "execution_count": 16,
   "metadata": {},
   "outputs": [
    {
     "name": "stdout",
     "output_type": "stream",
     "text": [
      "    A\n",
      "35  1\n",
      "93  1\n",
      "23  1\n"
     ]
    }
   ],
   "source": [
    "print(a[4:7])"
   ]
  },
  {
   "cell_type": "code",
   "execution_count": 30,
   "metadata": {},
   "outputs": [
    {
     "name": "stdout",
     "output_type": "stream",
     "text": [
      "     A    B    C\n",
      "56  17  6.0  7.0\n",
      "34  10  5.0  6.0\n",
      "77  10  3.0  4.0\n",
      "85   2  1.0  2.0\n",
      "35   1  NaN  NaN\n",
      "93   1  NaN  NaN\n",
      "23   1  NaN  NaN\n",
      "\n",
      "     A    B    C\n",
      "56  17  6.0  7.0\n",
      "34  10  5.0  6.0\n",
      "77  10  3.0  4.0\n",
      "85   2  1.0  2.0\n",
      "35   1  0.0  0.0\n",
      "93   1  0.0  0.0\n",
      "23   1  0.0  0.0\n"
     ]
    }
   ],
   "source": [
    "rem=a[4:7]\n",
    "print(mergABC.append(rem))\n",
    "print('')\n",
    "print(mergABC.append(rem).fillna(0))"
   ]
  },
  {
   "cell_type": "code",
   "execution_count": null,
   "metadata": {},
   "outputs": [],
   "source": []
  }
 ],
 "metadata": {
  "kernelspec": {
   "display_name": "Python 3",
   "language": "python",
   "name": "python3"
  },
  "language_info": {
   "codemirror_mode": {
    "name": "ipython",
    "version": 3
   },
   "file_extension": ".py",
   "mimetype": "text/x-python",
   "name": "python",
   "nbconvert_exporter": "python",
   "pygments_lexer": "ipython3",
   "version": "3.8.5"
  }
 },
 "nbformat": 4,
 "nbformat_minor": 4
}
